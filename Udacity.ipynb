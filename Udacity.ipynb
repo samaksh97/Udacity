{
  "nbformat": 4,
  "nbformat_minor": 0,
  "metadata": {
    "colab": {
      "name": "Udacity.ipynb",
      "provenance": [],
      "authorship_tag": "ABX9TyM9utzlytzm6HiaFPdYhGa+",
      "include_colab_link": true
    },
    "kernelspec": {
      "name": "python3",
      "display_name": "Python 3"
    }
  },
  "cells": [
    {
      "cell_type": "markdown",
      "metadata": {
        "id": "view-in-github",
        "colab_type": "text"
      },
      "source": [
        "<a href=\"https://colab.research.google.com/github/samaksh97/Udacity/blob/main/Udacity.ipynb\" target=\"_parent\"><img src=\"https://colab.research.google.com/assets/colab-badge.svg\" alt=\"Open In Colab\"/></a>"
      ]
    },
    {
      "cell_type": "code",
      "metadata": {
        "id": "wFMWUJ1jspaE"
      },
      "source": [
        "\r\n",
        "import numpy as np\r\n",
        "import pandas as pd\r\n",
        "import math\r\n",
        "import matplotlib.pyplot as plt\r\n",
        "import os\r\n",
        "%matplotlib inline\r\n",
        "df1 = pd.read_csv('/root/survey_results_public.csv')\r\n",
        "df2 = pd.read_csv('/root/survey_results_schema.csv')"
      ],
      "execution_count": 1,
      "outputs": []
    },
    {
      "cell_type": "markdown",
      "metadata": {
        "id": "xUDhZ0UPbjsk"
      },
      "source": [
        ""
      ]
    },
    {
      "cell_type": "markdown",
      "metadata": {
        "id": "0AXgKURYs9gS"
      },
      "source": [
        "Data Wrangling \r\n"
      ]
    },
    {
      "cell_type": "code",
      "metadata": {
        "id": "JVnaM8gGsqTc",
        "colab": {
          "base_uri": "https://localhost:8080/",
          "height": 391
        },
        "outputId": "44ccb8c3-5ce0-4886-fae9-fec40c979e1f"
      },
      "source": [
        "df1.head(3)"
      ],
      "execution_count": 10,
      "outputs": [
        {
          "output_type": "execute_result",
          "data": {
            "text/html": [
              "<div>\n",
              "<style scoped>\n",
              "    .dataframe tbody tr th:only-of-type {\n",
              "        vertical-align: middle;\n",
              "    }\n",
              "\n",
              "    .dataframe tbody tr th {\n",
              "        vertical-align: top;\n",
              "    }\n",
              "\n",
              "    .dataframe thead th {\n",
              "        text-align: right;\n",
              "    }\n",
              "</style>\n",
              "<table border=\"1\" class=\"dataframe\">\n",
              "  <thead>\n",
              "    <tr style=\"text-align: right;\">\n",
              "      <th></th>\n",
              "      <th>Respondent</th>\n",
              "      <th>MainBranch</th>\n",
              "      <th>Hobbyist</th>\n",
              "      <th>Age</th>\n",
              "      <th>Age1stCode</th>\n",
              "      <th>CompFreq</th>\n",
              "      <th>CompTotal</th>\n",
              "      <th>ConvertedComp</th>\n",
              "      <th>Country</th>\n",
              "      <th>CurrencyDesc</th>\n",
              "      <th>CurrencySymbol</th>\n",
              "      <th>DatabaseDesireNextYear</th>\n",
              "      <th>DatabaseWorkedWith</th>\n",
              "      <th>DevType</th>\n",
              "      <th>EdLevel</th>\n",
              "      <th>Employment</th>\n",
              "      <th>Ethnicity</th>\n",
              "      <th>Gender</th>\n",
              "      <th>JobFactors</th>\n",
              "      <th>JobSat</th>\n",
              "      <th>JobSeek</th>\n",
              "      <th>LanguageDesireNextYear</th>\n",
              "      <th>LanguageWorkedWith</th>\n",
              "      <th>MiscTechDesireNextYear</th>\n",
              "      <th>MiscTechWorkedWith</th>\n",
              "      <th>NEWCollabToolsDesireNextYear</th>\n",
              "      <th>NEWCollabToolsWorkedWith</th>\n",
              "      <th>NEWDevOps</th>\n",
              "      <th>NEWDevOpsImpt</th>\n",
              "      <th>NEWEdImpt</th>\n",
              "      <th>NEWJobHunt</th>\n",
              "      <th>NEWJobHuntResearch</th>\n",
              "      <th>NEWLearn</th>\n",
              "      <th>NEWOffTopic</th>\n",
              "      <th>NEWOnboardGood</th>\n",
              "      <th>NEWOtherComms</th>\n",
              "      <th>NEWOvertime</th>\n",
              "      <th>NEWPurchaseResearch</th>\n",
              "      <th>NEWPurpleLink</th>\n",
              "      <th>NEWSOSites</th>\n",
              "      <th>NEWStuck</th>\n",
              "      <th>OpSys</th>\n",
              "      <th>OrgSize</th>\n",
              "      <th>PlatformDesireNextYear</th>\n",
              "      <th>PlatformWorkedWith</th>\n",
              "      <th>PurchaseWhat</th>\n",
              "      <th>Sexuality</th>\n",
              "      <th>SOAccount</th>\n",
              "      <th>SOComm</th>\n",
              "      <th>SOPartFreq</th>\n",
              "      <th>SOVisitFreq</th>\n",
              "      <th>SurveyEase</th>\n",
              "      <th>SurveyLength</th>\n",
              "      <th>Trans</th>\n",
              "      <th>UndergradMajor</th>\n",
              "      <th>WebframeDesireNextYear</th>\n",
              "      <th>WebframeWorkedWith</th>\n",
              "      <th>WelcomeChange</th>\n",
              "      <th>WorkWeekHrs</th>\n",
              "      <th>YearsCode</th>\n",
              "      <th>YearsCodePro</th>\n",
              "    </tr>\n",
              "  </thead>\n",
              "  <tbody>\n",
              "    <tr>\n",
              "      <th>0</th>\n",
              "      <td>1</td>\n",
              "      <td>I am a developer by profession</td>\n",
              "      <td>Yes</td>\n",
              "      <td>NaN</td>\n",
              "      <td>13</td>\n",
              "      <td>Monthly</td>\n",
              "      <td>NaN</td>\n",
              "      <td>NaN</td>\n",
              "      <td>Germany</td>\n",
              "      <td>European Euro</td>\n",
              "      <td>EUR</td>\n",
              "      <td>Microsoft SQL Server</td>\n",
              "      <td>Elasticsearch;Microsoft SQL Server;Oracle</td>\n",
              "      <td>Developer, desktop or enterprise applications;...</td>\n",
              "      <td>Master’s degree (M.A., M.S., M.Eng., MBA, etc.)</td>\n",
              "      <td>Independent contractor, freelancer, or self-em...</td>\n",
              "      <td>White or of European descent</td>\n",
              "      <td>Man</td>\n",
              "      <td>Languages, frameworks, and other technologies ...</td>\n",
              "      <td>Slightly satisfied</td>\n",
              "      <td>I am not interested in new job opportunities</td>\n",
              "      <td>C#;HTML/CSS;JavaScript</td>\n",
              "      <td>C#;HTML/CSS;JavaScript</td>\n",
              "      <td>.NET Core;Xamarin</td>\n",
              "      <td>.NET;.NET Core</td>\n",
              "      <td>Microsoft Teams;Microsoft Azure;Trello</td>\n",
              "      <td>Confluence;Jira;Slack;Microsoft Azure;Trello</td>\n",
              "      <td>No</td>\n",
              "      <td>Somewhat important</td>\n",
              "      <td>Fairly important</td>\n",
              "      <td>NaN</td>\n",
              "      <td>NaN</td>\n",
              "      <td>Once a year</td>\n",
              "      <td>Not sure</td>\n",
              "      <td>NaN</td>\n",
              "      <td>No</td>\n",
              "      <td>Often: 1-2 days per week or more</td>\n",
              "      <td>Start a free trial;Ask developers I know/work ...</td>\n",
              "      <td>Amused</td>\n",
              "      <td>Stack Overflow (public Q&amp;A for anyone who codes)</td>\n",
              "      <td>Visit Stack Overflow;Go for a walk or other ph...</td>\n",
              "      <td>Windows</td>\n",
              "      <td>2 to 9 employees</td>\n",
              "      <td>Android;iOS;Kubernetes;Microsoft Azure;Windows</td>\n",
              "      <td>Windows</td>\n",
              "      <td>NaN</td>\n",
              "      <td>Straight / Heterosexual</td>\n",
              "      <td>No</td>\n",
              "      <td>No, not at all</td>\n",
              "      <td>NaN</td>\n",
              "      <td>Multiple times per day</td>\n",
              "      <td>Neither easy nor difficult</td>\n",
              "      <td>Appropriate in length</td>\n",
              "      <td>No</td>\n",
              "      <td>Computer science, computer engineering, or sof...</td>\n",
              "      <td>ASP.NET Core</td>\n",
              "      <td>ASP.NET;ASP.NET Core</td>\n",
              "      <td>Just as welcome now as I felt last year</td>\n",
              "      <td>50.0</td>\n",
              "      <td>36</td>\n",
              "      <td>27</td>\n",
              "    </tr>\n",
              "    <tr>\n",
              "      <th>1</th>\n",
              "      <td>2</td>\n",
              "      <td>I am a developer by profession</td>\n",
              "      <td>No</td>\n",
              "      <td>NaN</td>\n",
              "      <td>19</td>\n",
              "      <td>NaN</td>\n",
              "      <td>NaN</td>\n",
              "      <td>NaN</td>\n",
              "      <td>United Kingdom</td>\n",
              "      <td>Pound sterling</td>\n",
              "      <td>GBP</td>\n",
              "      <td>NaN</td>\n",
              "      <td>NaN</td>\n",
              "      <td>Developer, full-stack;Developer, mobile</td>\n",
              "      <td>Bachelor’s degree (B.A., B.S., B.Eng., etc.)</td>\n",
              "      <td>Employed full-time</td>\n",
              "      <td>NaN</td>\n",
              "      <td>NaN</td>\n",
              "      <td>NaN</td>\n",
              "      <td>Very dissatisfied</td>\n",
              "      <td>I am not interested in new job opportunities</td>\n",
              "      <td>Python;Swift</td>\n",
              "      <td>JavaScript;Swift</td>\n",
              "      <td>React Native;TensorFlow;Unity 3D</td>\n",
              "      <td>React Native</td>\n",
              "      <td>Github;Slack</td>\n",
              "      <td>Confluence;Jira;Github;Gitlab;Slack</td>\n",
              "      <td>NaN</td>\n",
              "      <td>NaN</td>\n",
              "      <td>Fairly important</td>\n",
              "      <td>NaN</td>\n",
              "      <td>NaN</td>\n",
              "      <td>Once a year</td>\n",
              "      <td>Not sure</td>\n",
              "      <td>NaN</td>\n",
              "      <td>No</td>\n",
              "      <td>NaN</td>\n",
              "      <td>NaN</td>\n",
              "      <td>Amused</td>\n",
              "      <td>Stack Overflow (public Q&amp;A for anyone who code...</td>\n",
              "      <td>Visit Stack Overflow;Go for a walk or other ph...</td>\n",
              "      <td>MacOS</td>\n",
              "      <td>1,000 to 4,999 employees</td>\n",
              "      <td>iOS;Kubernetes;Linux;MacOS</td>\n",
              "      <td>iOS</td>\n",
              "      <td>I have little or no influence</td>\n",
              "      <td>NaN</td>\n",
              "      <td>Yes</td>\n",
              "      <td>Yes, definitely</td>\n",
              "      <td>Less than once per month or monthly</td>\n",
              "      <td>Multiple times per day</td>\n",
              "      <td>NaN</td>\n",
              "      <td>NaN</td>\n",
              "      <td>NaN</td>\n",
              "      <td>Computer science, computer engineering, or sof...</td>\n",
              "      <td>NaN</td>\n",
              "      <td>NaN</td>\n",
              "      <td>Somewhat more welcome now than last year</td>\n",
              "      <td>NaN</td>\n",
              "      <td>7</td>\n",
              "      <td>4</td>\n",
              "    </tr>\n",
              "    <tr>\n",
              "      <th>2</th>\n",
              "      <td>3</td>\n",
              "      <td>I code primarily as a hobby</td>\n",
              "      <td>Yes</td>\n",
              "      <td>NaN</td>\n",
              "      <td>15</td>\n",
              "      <td>NaN</td>\n",
              "      <td>NaN</td>\n",
              "      <td>NaN</td>\n",
              "      <td>Russian Federation</td>\n",
              "      <td>NaN</td>\n",
              "      <td>NaN</td>\n",
              "      <td>NaN</td>\n",
              "      <td>NaN</td>\n",
              "      <td>NaN</td>\n",
              "      <td>NaN</td>\n",
              "      <td>NaN</td>\n",
              "      <td>NaN</td>\n",
              "      <td>NaN</td>\n",
              "      <td>NaN</td>\n",
              "      <td>NaN</td>\n",
              "      <td>NaN</td>\n",
              "      <td>Objective-C;Python;Swift</td>\n",
              "      <td>Objective-C;Python;Swift</td>\n",
              "      <td>NaN</td>\n",
              "      <td>NaN</td>\n",
              "      <td>NaN</td>\n",
              "      <td>NaN</td>\n",
              "      <td>NaN</td>\n",
              "      <td>NaN</td>\n",
              "      <td>NaN</td>\n",
              "      <td>NaN</td>\n",
              "      <td>NaN</td>\n",
              "      <td>Once a decade</td>\n",
              "      <td>NaN</td>\n",
              "      <td>NaN</td>\n",
              "      <td>No</td>\n",
              "      <td>NaN</td>\n",
              "      <td>NaN</td>\n",
              "      <td>NaN</td>\n",
              "      <td>Stack Overflow (public Q&amp;A for anyone who codes)</td>\n",
              "      <td>NaN</td>\n",
              "      <td>Linux-based</td>\n",
              "      <td>NaN</td>\n",
              "      <td>NaN</td>\n",
              "      <td>NaN</td>\n",
              "      <td>NaN</td>\n",
              "      <td>NaN</td>\n",
              "      <td>Yes</td>\n",
              "      <td>Yes, somewhat</td>\n",
              "      <td>A few times per month or weekly</td>\n",
              "      <td>Daily or almost daily</td>\n",
              "      <td>Neither easy nor difficult</td>\n",
              "      <td>Appropriate in length</td>\n",
              "      <td>NaN</td>\n",
              "      <td>NaN</td>\n",
              "      <td>NaN</td>\n",
              "      <td>NaN</td>\n",
              "      <td>Somewhat more welcome now than last year</td>\n",
              "      <td>NaN</td>\n",
              "      <td>4</td>\n",
              "      <td>NaN</td>\n",
              "    </tr>\n",
              "  </tbody>\n",
              "</table>\n",
              "</div>"
            ],
            "text/plain": [
              "   Respondent                      MainBranch  ... YearsCode  YearsCodePro\n",
              "0           1  I am a developer by profession  ...        36            27\n",
              "1           2  I am a developer by profession  ...         7             4\n",
              "2           3     I code primarily as a hobby  ...         4           NaN\n",
              "\n",
              "[3 rows x 61 columns]"
            ]
          },
          "metadata": {
            "tags": []
          },
          "execution_count": 10
        }
      ]
    },
    {
      "cell_type": "code",
      "metadata": {
        "colab": {
          "base_uri": "https://localhost:8080/"
        },
        "id": "jzHWnJEggHeW",
        "outputId": "7de318dd-8e98-4121-9d87-5eca494ee90d"
      },
      "source": [
        "df1.shape"
      ],
      "execution_count": 11,
      "outputs": [
        {
          "output_type": "execute_result",
          "data": {
            "text/plain": [
              "(64461, 61)"
            ]
          },
          "metadata": {
            "tags": []
          },
          "execution_count": 11
        }
      ]
    },
    {
      "cell_type": "markdown",
      "metadata": {
        "id": "SuBpMsKXIF3l"
      },
      "source": [
        "The final dataset consists of about 64,661 entries with about 60 features. An additional CSV file shows the exact questions the developer were asked. \r\n",
        "Next to a few numerical data features like salary there are many features consisting of categorical data.Lets check the features in schema files\r\n"
      ]
    },
    {
      "cell_type": "code",
      "metadata": {
        "colab": {
          "base_uri": "https://localhost:8080/"
        },
        "id": "oEdfgb3qH2Y1",
        "outputId": "1a959647-a42b-4b9f-dd71-c68035c48bb2"
      },
      "source": [
        ""
      ],
      "execution_count": 3,
      "outputs": [
        {
          "output_type": "execute_result",
          "data": {
            "text/plain": [
              "(64461, 61)"
            ]
          },
          "metadata": {
            "tags": []
          },
          "execution_count": 3
        }
      ]
    },
    {
      "cell_type": "code",
      "metadata": {
        "colab": {
          "base_uri": "https://localhost:8080/",
          "height": 124
        },
        "id": "Y5t8rODhpi-6",
        "outputId": "2186cf92-a011-4945-b64c-27da54408131"
      },
      "source": [
        "schema_feautures = df2['Column']\r\n",
        "str(list(schema_feautures))"
      ],
      "execution_count": 4,
      "outputs": [
        {
          "output_type": "execute_result",
          "data": {
            "application/vnd.google.colaboratory.intrinsic+json": {
              "type": "string"
            },
            "text/plain": [
              "\"['Respondent', 'MainBranch', 'Hobbyist', 'Age', 'Age1stCode', 'CompFreq', 'CompTotal', 'ConvertedComp', 'Country', 'CurrencyDesc', 'CurrencySymbol', 'DatabaseDesireNextYear', 'DatabaseWorkedWith', 'DevType', 'EdLevel', 'Employment', 'Ethnicity', 'Gender', 'JobFactors', 'JobSat', 'JobSeek', 'LanguageDesireNextYear', 'LanguageWorkedWith', 'MiscTechDesireNextYear', 'MiscTechWorkedWith', 'NEWCollabToolsDesireNextYear', 'NEWCollabToolsWorkedWith', 'NEWDevOps', 'NEWDevOpsImpt', 'NEWEdImpt', 'NEWJobHunt', 'NEWJobHuntResearch', 'NEWLearn', 'NEWOffTopic', 'NEWOnboardGood', 'NEWOtherComms', 'NEWOvertime', 'NEWPurchaseResearch', 'NEWPurpleLink', 'NEWSOSites', 'NEWStuck', 'OpSys', 'OrgSize', 'PlatformDesireNextYear', 'PlatformWorkedWith', 'PurchaseWhat', 'Sexuality', 'SOAccount', 'SOComm', 'SOPartFreq', 'SOVisitFreq', 'SurveyEase', 'SurveyLength', 'Trans', 'UndergradMajor', 'WebframeDesireNextYear', 'WebframeWorkedWith', 'WelcomeChange', 'WorkWeekHrs', 'YearsCode', 'YearsCodePro']\""
            ]
          },
          "metadata": {
            "tags": []
          },
          "execution_count": 4
        }
      ]
    },
    {
      "cell_type": "markdown",
      "metadata": {
        "id": "QFmoF4CVpghx"
      },
      "source": [
        "There seem to be a lot of features available to us. However, we will need only few of them to answer our questions. Lets look at the feature descriptions to make an educated guess of the features we will choose for our analysis.\r\n"
      ]
    },
    {
      "cell_type": "code",
      "metadata": {
        "colab": {
          "base_uri": "https://localhost:8080/"
        },
        "id": "Xpxjf7TJIijG",
        "outputId": "8601cba0-e932-4393-9554-4f4418a2c1ce"
      },
      "source": [
        "list(df2[df2.columns[1]])"
      ],
      "execution_count": 5,
      "outputs": [
        {
          "output_type": "execute_result",
          "data": {
            "text/plain": [
              "['Randomized respondent ID number (not in order of survey response time)',\n",
              " 'Which of the following options best describes you today? Here, by \"developer\" we mean \"someone who writes code.\"',\n",
              " 'Do you code as a hobby?',\n",
              " 'What is your age (in years)? If you prefer not to answer, you may leave this question blank.',\n",
              " 'At what age did you write your first line of code or program? (e.g., webpage, Hello World, Scratch project)',\n",
              " 'Is that compensation weekly, monthly, or yearly?',\n",
              " 'What is your current total compensation (salary, bonuses, and perks, before taxes and deductions), in `CurrencySymbol`? Please enter a whole number in the box below, without any punctuation. If you are paid hourly, please estimate an equivalent weekly, monthly, or yearly salary. If you prefer not to answer, please leave the box empty.',\n",
              " 'Salary converted to annual USD salaries using the exchange rate on 2020-02-19, assuming 12 working months and 50 working weeks.',\n",
              " 'Where do you live?',\n",
              " \"Which currency do you use day-to-day? If your answer is complicated, please pick the one you're most comfortable estimating in.\",\n",
              " \"Which currency do you use day-to-day? If your answer is complicated, please pick the one you're most comfortable estimating in.\",\n",
              " 'Which database environments have you done extensive development work in over the past year, and which do you want to work in over the next year? (If you both worked with the database and want to continue to do so, please check both boxes in that row.)',\n",
              " 'Which database environments have you done extensive development work in over the past year, and which do you want to work in over the next year? (If you both worked with the database and want to continue to do so, please check both boxes in that row.)',\n",
              " 'Which of the following describe you? Please select all that apply.',\n",
              " 'Which of the following best describes the highest level of formal education that you’ve completed?',\n",
              " 'Which of the following best describes your current employment status?',\n",
              " 'Which of the following describe you, if any? Please check all that apply. If you prefer not to answer, you may leave this question blank.',\n",
              " 'Which of the following describe you, if any? Please check all that apply. If you prefer not to answer, you may leave this question blank.',\n",
              " 'Imagine that you are deciding between two job offers with the same compensation, benefits, and location. Of the following factors, which 3 are MOST important to you?',\n",
              " 'How satisfied are you with your current job? (If you work multiple jobs, answer for the one you spend the most hours on.)',\n",
              " 'Which of the following best describes your current job-seeking status?',\n",
              " 'Which programming, scripting, and markup languages have you done extensive development work in over the past year, and which do you want to work in over the next year? (If you both worked with the language and want to continue to do so, please check both boxes in that row.)',\n",
              " 'Which programming, scripting, and markup languages have you done extensive development work in over the past year, and which do you want to work in over the next year? (If you both worked with the language and want to continue to do so, please check both boxes in that row.)',\n",
              " 'Which other frameworks, libraries, and tools have you done extensive development work in over the past year, and which do you want to work in over the next year? (If you both worked with the framework and want to continue to do so, please check both boxes in that row.)',\n",
              " 'Which other frameworks, libraries, and tools have you done extensive development work in over the past year, and which do you want to work in over the next year? (If you both worked with the framework and want to continue to do so, please check both boxes in that row.)',\n",
              " 'Which collaboration tools have you done extensive development work in over the past year, and which do you want to work in over the next year? (If you worked with the tool and want to continue to do so, please check both boxes in that row.)',\n",
              " 'Which collaboration tools have you done extensive development work in over the past year, and which do you want to work in over the next year? (If you worked with the tool and want to continue to do so, please check both boxes in that row.)',\n",
              " 'Does your company have a dedicated DevOps person?',\n",
              " 'How important is the practice of DevOps to scaling software development?',\n",
              " 'How important is a formal education, such as a university degree in computer science, to your career?',\n",
              " 'In general, what drives you to look for a new job? Select all that apply.',\n",
              " 'When job searching, how do you learn more about a company? Select all that apply.',\n",
              " 'How frequently do you learn a new language or framework?',\n",
              " 'Do you think Stack Overflow should relax restrictions on what is considered “off-topic”?',\n",
              " 'Do you think your company has a good onboarding process? (By onboarding, we mean the structured process of getting you settled in to your new role at a company)',\n",
              " 'Are you a member of any other online developer communities?',\n",
              " 'How often do you work overtime or beyond the formal time expectation of your job?',\n",
              " 'When buying a new tool or software, how do you discover and research available solutions? Select all that apply.',\n",
              " 'You search for a coding solution online and the first result link is purple because you already visited it. How do you feel?',\n",
              " 'Which of the following Stack Overflow sites have you visited? Select all that apply.',\n",
              " 'What do you do when you get stuck on a problem? Select all that apply.',\n",
              " 'What is the primary operating system in which you work?',\n",
              " 'Approximately how many people are employed by the company or organization you currently work for?',\n",
              " 'Which platforms have you done extensive development work in over the past year, and which do you want to work in over the next year? (If you both worked with the platform and want to continue to do so, please check both boxes in that row.)',\n",
              " 'Which platforms have you done extensive development work in over the past year, and which do you want to work in over the next year? (If you both worked with the platform and want to continue to do so, please check both boxes in that row.)',\n",
              " 'What level of influence do you, personally, have over new technology purchases at your organization?',\n",
              " 'Which of the following describe you, if any? Please check all that apply. If you prefer not to answer, you may leave this question blank.',\n",
              " 'Do you have a Stack Overflow account?',\n",
              " 'Do you consider yourself a member of the Stack Overflow community?',\n",
              " 'How frequently would you say you participate in Q&A on Stack Overflow? By participate we mean ask, answer, vote for, or comment on questions.',\n",
              " 'How frequently would you say you visit Stack Overflow?',\n",
              " 'How easy or difficult was this survey to complete?',\n",
              " 'How do you feel about the length of the survey this year?',\n",
              " 'Are you transgender?',\n",
              " 'What was your primary field of study?',\n",
              " 'Which web frameworks have you done extensive development work in over the past year, and which do you want to work in over the next year? (If you both worked with the framework and want to continue to do so, please check both boxes in that row.)',\n",
              " 'Which web frameworks have you done extensive development work in over the past year, and which do you want to work in over the next year? (If you both worked with the framework and want to continue to do so, please check both boxes in that row.)',\n",
              " 'Compared to last year, how welcome do you feel on Stack Overflow?',\n",
              " 'On average, how many hours per week do you work? Please enter a whole number in the box.',\n",
              " 'Including any education, how many years have you been coding in total?',\n",
              " 'NOT including education, how many years have you coded professionally (as a part of your work)?']"
            ]
          },
          "metadata": {
            "tags": []
          },
          "execution_count": 5
        }
      ]
    },
    {
      "cell_type": "code",
      "metadata": {
        "colab": {
          "base_uri": "https://localhost:8080/"
        },
        "id": "q0FsVqQcIo-r",
        "outputId": "ef99d445-7920-407f-8c17-057058e2363c"
      },
      "source": [
        "#List of all the coloumns with missing values\r\n",
        "print(df1.columns[df1.isnull().any()].to_list()[:10])\r\n",
        "print('Number of columns with missing values:',len(df1.columns[df1.isnull().any()].to_list()))"
      ],
      "execution_count": 8,
      "outputs": [
        {
          "output_type": "stream",
          "text": [
            "['MainBranch', 'Hobbyist', 'Age', 'Age1stCode', 'CompFreq', 'CompTotal', 'ConvertedComp', 'Country', 'CurrencyDesc', 'CurrencySymbol']\n",
            "Number of columns with missing values: 60\n"
          ],
          "name": "stdout"
        }
      ]
    },
    {
      "cell_type": "code",
      "metadata": {
        "colab": {
          "base_uri": "https://localhost:8080/"
        },
        "id": "odoAggdam0o1",
        "outputId": "bdc204df-e4ac-4e9b-87cd-1f2ea522a04d"
      },
      "source": [
        "#columns with more than 30% missing values\r\n",
        "print('Number of columns with more the 30% missing values:',len(df1.columns[df1.isnull().mean()>0.30].to_list()))\r\n",
        "print(df1.columns[df1.isnull().mean()>0.30].to_list())"
      ],
      "execution_count": 12,
      "outputs": [
        {
          "output_type": "stream",
          "text": [
            "Number of columns with more the 30% missing values: 19\n",
            "['CompFreq', 'CompTotal', 'ConvertedComp', 'DatabaseDesireNextYear', 'MiscTechDesireNextYear', 'MiscTechWorkedWith', 'NEWDevOps', 'NEWDevOpsImpt', 'NEWJobHunt', 'NEWJobHuntResearch', 'NEWOnboardGood', 'NEWOvertime', 'NEWPurchaseResearch', 'OrgSize', 'PurchaseWhat', 'Sexuality', 'WebframeDesireNextYear', 'WebframeWorkedWith', 'WorkWeekHrs']\n"
          ],
          "name": "stdout"
        }
      ]
    },
    {
      "cell_type": "code",
      "metadata": {
        "id": "fRoIC-MNm6PE"
      },
      "source": [
        ""
      ],
      "execution_count": null,
      "outputs": []
    },
    {
      "cell_type": "markdown",
      "metadata": {
        "id": "6zEEhiU1okcY"
      },
      "source": [
        "*1.How is education level relevant for breaking into Data Science*\r\n"
      ]
    },
    {
      "cell_type": "code",
      "metadata": {
        "colab": {
          "base_uri": "https://localhost:8080/"
        },
        "id": "dXuoIT0Coo4m",
        "outputId": "40db0f76-d41b-4947-8da6-a111e038ed04"
      },
      "source": [
        "print(list(df2[df2['Column'] == 'EdLevel']['QuestionText']))"
      ],
      "execution_count": null,
      "outputs": [
        {
          "output_type": "stream",
          "text": [
            "['Which of the following best describes the highest level of formal education that you’ve completed?']\n"
          ],
          "name": "stdout"
        }
      ]
    },
    {
      "cell_type": "code",
      "metadata": {
        "id": "9N_SFjBMo9xk"
      },
      "source": [
        "#Treating Missing Values"
      ],
      "execution_count": null,
      "outputs": []
    },
    {
      "cell_type": "code",
      "metadata": {
        "colab": {
          "base_uri": "https://localhost:8080/"
        },
        "id": "6Zd9C9p1pDnW",
        "outputId": "388251e2-c8eb-42aa-a169-c5398b4af14f"
      },
      "source": [
        "education = df1['EdLevel']\r\n",
        "education.value_counts(normalize= True)\r\n"
      ],
      "execution_count": null,
      "outputs": [
        {
          "output_type": "execute_result",
          "data": {
            "text/plain": [
              "Bachelor’s degree (B.A., B.S., B.Eng., etc.)                                          0.462155\n",
              "Master’s degree (M.A., M.S., M.Eng., MBA, etc.)                                       0.228309\n",
              "Some college/university study without earning a degree                                0.126047\n",
              "Secondary school (e.g. American high school, German Realschule or Gymnasium, etc.)    0.083074\n",
              "Associate degree (A.A., A.S., etc.)                                                   0.032091\n",
              "Other doctoral degree (Ph.D., Ed.D., etc.)                                            0.029427\n",
              "Primary/elementary school                                                             0.016385\n",
              "Professional degree (JD, MD, etc.)                                                    0.013930\n",
              "I never completed any formal education                                                0.008584\n",
              "Name: EdLevel, dtype: float64"
            ]
          },
          "metadata": {
            "tags": []
          },
          "execution_count": 61
        }
      ]
    },
    {
      "cell_type": "code",
      "metadata": {
        "colab": {
          "base_uri": "https://localhost:8080/",
          "height": 298
        },
        "id": "QXFVzaJNpYne",
        "outputId": "9647fe5a-7a7b-4d01-ae3f-e5367e4028cd"
      },
      "source": [
        "education.value_counts(normalize= True).plot(kind='barh', title='Degree Required to break into Data Science?')"
      ],
      "execution_count": null,
      "outputs": [
        {
          "output_type": "execute_result",
          "data": {
            "text/plain": [
              "<matplotlib.axes._subplots.AxesSubplot at 0x7f1f19589550>"
            ]
          },
          "metadata": {
            "tags": []
          },
          "execution_count": 63
        },
        {
          "output_type": "display_data",
          "data": {
            "image/png": "[encoded data removed]",
            "text/plain": [
              "<Figure size 432x288 with 1 Axes>"
            ]
          },
          "metadata": {
            "tags": [],
            "needs_background": "light"
          }
        }
      ]
    },
    {
      "cell_type": "code",
      "metadata": {
        "colab": {
          "base_uri": "https://localhost:8080/",
          "height": 606
        },
        "id": "xe-FrluipsCj",
        "outputId": "674b8efa-830a-4cda-b1b9-b40d3b522499"
      },
      "source": [
        "# which countries does the respondednt belong to \r\n",
        "plt.style.use('ggplot')\r\n",
        "\r\n",
        "dft = df1.groupby(['Country']).count().sort_values('Respondent', ascending=False).head(15)\r\n",
        "cntrs = list(dft.index)\r\n",
        "cntrs[0], cntrs[2], cntrs[-3] = \"USA\", \"UK\", \"Russia\"\r\n",
        "cntrs = list(reversed(cntrs))\r\n",
        "\r\n",
        "fig1, ax1 = plt.subplots(figsize=(9,6))\r\n",
        "ax1.barh(cntrs, list(reversed(dft['Respondent'])))\r\n",
        "ax1.set_xticks(np.arange(0,13001,1000))\r\n",
        "ax1.grid(axis='y')\r\n",
        "# ax1.set_title('\\nTop 15 Countries of Respondents',fontdict={'fontsize':20})\r\n",
        "fig1.tight_layout()\r\n",
        "\r\n",
        "plt.style.use('default')"
      ],
      "execution_count": 18,
      "outputs": [
        {
          "output_type": "display_data",
          "data": {
            "image/png": "[encoded data removed]",
            "text/plain": [
              "<Figure size 900x600 with 1 Axes>"
            ]
          },
          "metadata": {
            "tags": []
          }
        }
      ]
    },
    {
      "cell_type": "code",
      "metadata": {
        "colab": {
          "base_uri": "https://localhost:8080/",
          "height": 574
        },
        "id": "WRkKRjBymgw6",
        "outputId": "7515e4e3-7393-485c-cb4b-4ecdc0c5cc81"
      },
      "source": [
        "ig , ax = plt.subplots(figsize=(10,10))\r\n",
        "# ld that users desire\r\n",
        "ld = {}\r\n",
        "for x in df1.LanguageDesireNextYear.dropna():\r\n",
        "    for d in x.split(';'):\r\n",
        "        if d not in ld:\r\n",
        "            ld[d] = 1   # create new instance\r\n",
        "        else:\r\n",
        "            ld[d] += 1  # increments that instance           \r\n",
        "ld = {k:v for k,v in sorted(ld.items(), key=lambda x:x[1])}\r\n",
        "pos = np.arange(0,len(ld.keys()), 1)\r\n",
        "labels = [x for x in ld.keys()]\r\n",
        "tot = df1.LanguageDesireNextYear.count()\r\n",
        "pcnts = [round(100*x/tot,2) for x in ld.values()]\r\n",
        "\r\n",
        "ax.barh(labels, ld.values(), edgecolor='k')\r\n",
        "ax.set_xticks(np.arange(0, max(ld.values())+600, 100))\r\n",
        "ax.xaxis.set_ticklabels([])\r\n",
        "for (y, p), x  in zip(enumerate(pcnts), ld.values()):\r\n",
        "    ax.annotate(\"%.2f%%\"%p, (x+80 ,y-0.125))\r\n",
        "ax.xaxis.set_ticks_position('none')\r\n",
        "ax.grid(False)\r\n",
        "# fig.tight_layout()\r\n",
        "# ax.set_title('Languages Desired(wants to work with)' ,fontdict={'fontsize':25}, horizontalalignment='center')\r\n",
        "ax.set_frame_on(False)\r\n",
        "\r\n",
        "plt.style.use('default')"
      ],
      "execution_count": 15,
      "outputs": [
        {
          "output_type": "display_data",
          "data": {
            "image/png": "[encoded data removed]",
            "text/plain": [
              "<Figure size 720x720 with 1 Axes>"
            ]
          },
          "metadata": {
            "tags": [],
            "needs_background": "light"
          }
        }
      ]
    },
    {
      "cell_type": "code",
      "metadata": {
        "colab": {
          "base_uri": "https://localhost:8080/",
          "height": 557
        },
        "id": "k_nTogycmpaN",
        "outputId": "843d3c00-7caa-419e-f96e-dc754fcab812"
      },
      "source": [
        "plt.style.use('seaborn')\r\n",
        "\r\n",
        "dft = df1.groupby(['Country']).WorkWeekHrs.mean()\r\n",
        "cntr =['Pakistan','India','Turkey','France','Germany','Canada', 'China','United States','United Kingdom']\r\n",
        "age = [dft[x] for x in cntr]\r\n",
        "\r\n",
        "fig, ax = plt.subplots()\r\n",
        "ax.barh(cntr, age)\r\n",
        "ax.set_xlabel('Hours')\r\n",
        "ax.grid(axis='y')\r\n",
        "# ax.set_title('Average Weekly Work Hours' ,fontdict={'fontsize':20}, horizontalalignment='center')\r\n",
        "fig.tight_layout()\r\n",
        "\r\n",
        "plt.style.use('default')"
      ],
      "execution_count": 17,
      "outputs": [
        {
          "output_type": "display_data",
          "data": {
            "image/png": "[encoded data removed]",
            "text/plain": [
              "<Figure size 800x550 with 1 Axes>"
            ]
          },
          "metadata": {
            "tags": []
          }
        }
      ]
    },
    {
      "cell_type": "code",
      "metadata": {
        "id": "CdBQUZbEoZxY"
      },
      "source": [
        ""
      ],
      "execution_count": null,
      "outputs": []
    }
  ]
}